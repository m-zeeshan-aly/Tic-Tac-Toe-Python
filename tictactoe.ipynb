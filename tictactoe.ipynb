{
 "cells": [
  {
   "cell_type": "code",
   "execution_count": null,
   "id": "ffaa2818",
   "metadata": {},
   "outputs": [],
   "source": []
  },
  {
   "cell_type": "code",
   "execution_count": 1,
   "id": "a42cbd85",
   "metadata": {},
   "outputs": [
    {
     "name": "stdout",
     "output_type": "stream",
     "text": [
      "hello world\n"
     ]
    }
   ],
   "source": [
    "print(\"hello world\")"
   ]
  },
  {
   "cell_type": "code",
   "execution_count": null,
   "id": "29047df0",
   "metadata": {},
   "outputs": [],
   "source": []
  },
  {
   "cell_type": "code",
   "execution_count": 10,
   "id": "0f3a3cd1",
   "metadata": {},
   "outputs": [
    {
     "name": "stdout",
     "output_type": "stream",
     "text": [
      "Wlcome (Rafay)\n",
      "<class 'str'>\n"
     ]
    }
   ],
   "source": [
    "name ='Wlcome (Rafay)'\n",
    "# name = \"zeeshan\"\n",
    "print(name)\n",
    "print(type(name))"
   ]
  },
  {
   "cell_type": "code",
   "execution_count": 11,
   "id": "f38ea118",
   "metadata": {},
   "outputs": [],
   "source": [
    "n='A'"
   ]
  },
  {
   "cell_type": "code",
   "execution_count": 12,
   "id": "d183d7a1",
   "metadata": {},
   "outputs": [
    {
     "name": "stdout",
     "output_type": "stream",
     "text": [
      "A\n"
     ]
    }
   ],
   "source": [
    "print(n)"
   ]
  },
  {
   "cell_type": "code",
   "execution_count": 13,
   "id": "6ca38fe6",
   "metadata": {},
   "outputs": [
    {
     "data": {
      "text/plain": [
       "str"
      ]
     },
     "execution_count": 13,
     "metadata": {},
     "output_type": "execute_result"
    }
   ],
   "source": [
    "type(n)"
   ]
  },
  {
   "cell_type": "code",
   "execution_count": null,
   "id": "5d84fec6",
   "metadata": {},
   "outputs": [],
   "source": []
  },
  {
   "cell_type": "code",
   "execution_count": 14,
   "id": "c95a2c1e",
   "metadata": {},
   "outputs": [
    {
     "name": "stdout",
     "output_type": "stream",
     "text": [
      "Wlcome (Rafay) <class 'str'>\n"
     ]
    }
   ],
   "source": [
    "print('Wlcome (Rafay)',type('Wlcome (Rafay)'))"
   ]
  },
  {
   "cell_type": "code",
   "execution_count": null,
   "id": "33b7b023",
   "metadata": {},
   "outputs": [],
   "source": []
  },
  {
   "cell_type": "code",
   "execution_count": null,
   "id": "2563467a",
   "metadata": {},
   "outputs": [],
   "source": []
  },
  {
   "cell_type": "code",
   "execution_count": null,
   "id": "b8c041b2",
   "metadata": {},
   "outputs": [],
   "source": []
  },
  {
   "cell_type": "code",
   "execution_count": 1,
   "id": "c795ef11",
   "metadata": {},
   "outputs": [
    {
     "name": "stdout",
     "output_type": "stream",
     "text": [
      "helllo\n"
     ]
    }
   ],
   "source": [
    "print(\"helllo\")"
   ]
  },
  {
   "cell_type": "code",
   "execution_count": 2,
   "id": "e037c2bf",
   "metadata": {},
   "outputs": [
    {
     "data": {
      "text/plain": [
       "'hello\\nhi \\no am here'"
      ]
     },
     "execution_count": 2,
     "metadata": {},
     "output_type": "execute_result"
    }
   ],
   "source": [
    "\"\"\"hello\n",
    "hi \n",
    "o am here\"\"\""
   ]
  },
  {
   "cell_type": "code",
   "execution_count": null,
   "id": "e49f9155",
   "metadata": {},
   "outputs": [],
   "source": []
  },
  {
   "cell_type": "code",
   "execution_count": 1,
   "id": "ccb4f01f",
   "metadata": {},
   "outputs": [],
   "source": [
    "def display_board(board):\n",
    "    print(\"  \")\n",
    "    for i in range(3):\n",
    "        for j in range(3):\n",
    "            if j!=2:\n",
    "                print(\" \",board[i][j],\"  | \",end=\"\")\n",
    "            else:\n",
    "                print(\" \",board[i][j])\n",
    "        print(\"---------------------\")\n",
    "    print(\" \")\n",
    "    print(\" \")\n",
    "    return 0\n",
    "\n",
    "def get_board():\n",
    "    board=[[\" \",\" \", \" \"],[\" \",\" \", \" \"],[\" \",\" \", \" \"]]\n",
    "    print(\"Your New Board Is Ready\")\n",
    "    display_board(board)\n",
    "    return board\n",
    "\n",
    "def get_user_number_to_mark_place():\n",
    "    marking_position = int(input(\"Plase Enter a Number 1 to 9 to Mark a Spot.  \"))\n",
    "    print(\"---------------------------------------------\")\n",
    "    if (marking_position<0 or marking_position>9):\n",
    "        print(\"Please Make Sure You Entered The Number Between 0 to 9 and non-Nagative.\")\n",
    "        print(\"                       ----------------                        \")\n",
    "        print(\" \")\n",
    "        get_user_number_to_mark_place()\n",
    "    \n",
    "    return marking_position\n",
    "\n",
    "def is_place_empty(marking_position,board):\n",
    "    if (marking_position<=3):\n",
    "        board_position = board[0][marking_position-1]\n",
    "        \n",
    "    elif (marking_position>3 and marking_position<=6):\n",
    "        marking_position = marking_position-3\n",
    "        board_position = board[1][marking_position-1]\n",
    "        \n",
    "    elif (marking_position>6 and marking_position<=9):\n",
    "        marking_position = marking_position-3-3\n",
    "        board_position = board[2][marking_position-1]\n",
    "    \n",
    "    if board_position!=\" \":\n",
    "        return False\n",
    "    else:\n",
    "        return True\n",
    "\n",
    "def get_board_index(marking_position,board):\n",
    "    i, j=0,0\n",
    "    if (marking_position<=3):\n",
    "        i=0\n",
    "        j=marking_position-1\n",
    "    elif (marking_position>3 and marking_position<=6):\n",
    "\n",
    "        i=1\n",
    "        marking_position = marking_position-3\n",
    "        j=marking_position-1\n",
    "    elif (marking_position>6 and marking_position<=9):\n",
    "        marking_position = marking_position-3-3\n",
    "        i=2\n",
    "        j = marking_position-1\n",
    "    return (i,j)\n",
    "\n",
    "def update_board(marking_position,board,player):\n",
    "    row,col = get_board_index(marking_position,board)\n",
    "    board[row][col]=player\n",
    "    display_board(board)\n",
    "    return board\n",
    "\n",
    "\n",
    "def mark_place(board,player):\n",
    "    marking_position=get_user_number_to_mark_place()\n",
    "    if (is_place_empty(marking_position,board)):\n",
    "        board=update_board(marking_position,board,player)\n",
    "        return 0\n",
    "    else:\n",
    "        print(\"This Spot Is Already Taken Choose Another One Please\")\n",
    "        print(\" \")\n",
    "        mark_place(board,player)\n",
    "        \n",
    "        \n",
    "def check_result(board):\n",
    "    p1,p2=False,False\n",
    "    temp=[]\n",
    "    for i in range (3):\n",
    "        if (board[i]==[\"X\",\"X\",\"X\"]):\n",
    "            p1=True\n",
    "            return (\"Player 1\",p1)\n",
    "        elif (board[i]==[\"0\",\"0\",\"0\"]):\n",
    "            p2=True\n",
    "    for i in range(3):\n",
    "        for j in range (3):\n",
    "            temp.append(board[j][i])\n",
    "        if (temp==[\"X\",\"X\",\"X\"]):\n",
    "            p1 = True\n",
    "        elif (temp==[\"0\",\"0\",\"0\"]):\n",
    "            p2 = True\n",
    "        temp=[]\n",
    "        \n",
    "    if (board[0][0] ==board[1][1]==board[2][2]==\"X\"):\n",
    "        p1=True\n",
    "    elif (board[0][2] ==board[1][1]==board[2][0]==\"X\"):\n",
    "        p1=True\n",
    "    \n",
    "    if (board[0][0] ==board[1][1]==board[2][2]==\"0\"):\n",
    "        p2=True\n",
    "    elif (board[0][2] ==board[1][1]==board[2][0]==\"0\"):\n",
    "        p2=True\n",
    "    \n",
    "    if (p1):\n",
    "        return (\"Player 1\",p1)\n",
    "    if (p2):\n",
    "        return (\"Player 2\",p2)\n",
    "    return (\"Tie\",False)\n",
    "       \n",
    "\n",
    "def start_game(player1,player2,board):\n",
    "    remaining_spots=8\n",
    "    winer=False\n",
    "    player =\"\"\n",
    "    while (remaining_spots>=0):\n",
    "        if (remaining_spots%2==0):\n",
    "            mark_place(board,player1)\n",
    "            remaining_spots=remaining_spots-1\n",
    "            if (remaining_spots>=0 and remaining_spots<=3):\n",
    "                player,winer=check_result(board)\n",
    "                if(winer):\n",
    "                    print(\"---Congrulations---\")\n",
    "                    print(player ,\"Has Won The Game\")\n",
    "                    print(\" \")\n",
    "                    remaining_spots=-1\n",
    "                if (remaining_spots==0 and winer==False):\n",
    "                    print(\"The Game Has \",player)\n",
    "                    remaining_spots=-1\n",
    "        elif (remaining_spots%2==1):\n",
    "            mark_place(board,player2)\n",
    "            remaining_spots=remaining_spots-1\n",
    "            if (remaining_spots>=0 and remaining_spots<=3):\n",
    "                player,winer=check_result(board)\n",
    "                if(winer):\n",
    "                    print(\"---Congrulations---\")\n",
    "                    print(player ,\"Has Won The Game\")\n",
    "                    print(\" \")\n",
    "                    remaining_spots=-1\n",
    "                if (remaining_spots==0 and winer==False):\n",
    "                    print(\"The Game Has \",player)\n",
    "                    remaining_spots=-1\n",
    "    \n",
    "            \n",
    "    play_again = input(\"Enter yes or y to Play Again OR X to Quit The Game : \")\n",
    "    if (play_again==\"y\" or play_again==\"Y\" or play_again==\"yes\" or play_again==\"YES\"):\n",
    "        board=get_board()\n",
    "        start_game(player1,player2,board)\n",
    "    elif (play_again==\"exit\" or play_again==\"x\" or play_again==\"X\" or \n",
    "          play_again==\"quit\" or play_again==\"QUIT\" or play_again==\"q\" or play_again==\"Q\"):\n",
    "        print(\" \")\n",
    "        print(\"Game Has Successfully Quited\")\n",
    "        return 0\n",
    "        \n",
    "        \n",
    "def tic_tak():\n",
    "    print(\"Lets Play Tick Tak Toye\")\n",
    "    board=get_board()\n",
    "\n",
    "    player1,player2= \"X\",\"0\"\n",
    "\n",
    "    start_game(player1,player2,board)\n",
    "    \n",
    "    "
   ]
  },
  {
   "cell_type": "code",
   "execution_count": 1,
   "id": "776ec2dd",
   "metadata": {},
   "outputs": [],
   "source": [
    "def display_board(board):\n",
    "    print(\"  \")\n",
    "    for i in range(3):\n",
    "        for j in range(3):\n",
    "            if j!=2:\n",
    "                print(\" \",board[i][j],\"  | \",end=\"\")\n",
    "            else:\n",
    "                print(\" \",board[i][j])\n",
    "        print(\"---------------------\")\n",
    "    print(\" \")\n",
    "    print(\" \")\n",
    "    return 0"
   ]
  },
  {
   "cell_type": "code",
   "execution_count": null,
   "id": "e4b37666",
   "metadata": {},
   "outputs": [],
   "source": []
  },
  {
   "cell_type": "code",
   "execution_count": 2,
   "id": "7a4d0f51",
   "metadata": {},
   "outputs": [],
   "source": [
    "def get_board():\n",
    "    board=[[\" \",\" \", \" \"],[\" \",\" \", \" \"],[\" \",\" \", \" \"]]\n",
    "    print(\"Your New Board Is Ready\")\n",
    "    display_board(board)\n",
    "    return board"
   ]
  },
  {
   "cell_type": "code",
   "execution_count": 3,
   "id": "7fbb37ad",
   "metadata": {},
   "outputs": [],
   "source": [
    "def get_user_number_to_mark_place():\n",
    "    marking_position = int(input(\"Plase Enter a Number 1 to 9 to Mark a Spot.  \"))\n",
    "    print(\"---------------------------------------------\")\n",
    "    if (marking_position<0 or marking_position>9):\n",
    "        print(\"Please Make Sure You Entered The Number Between 0 to 9 and non-Nagative.\")\n",
    "        print(\"                       ----------------                        \")\n",
    "        print(\" \")\n",
    "        get_user_number_to_mark_place()\n",
    "    \n",
    "    return marking_position"
   ]
  },
  {
   "cell_type": "code",
   "execution_count": 4,
   "id": "7ba443b6",
   "metadata": {},
   "outputs": [],
   "source": [
    "def is_place_empty(marking_position,board):\n",
    "    if (marking_position<=3):\n",
    "        board_position = board[0][marking_position-1]\n",
    "        \n",
    "    elif (marking_position>3 and marking_position<=6):\n",
    "        marking_position = marking_position-3\n",
    "        board_position = board[1][marking_position-1]\n",
    "        \n",
    "    elif (marking_position>6 and marking_position<=9):\n",
    "        marking_position = marking_position-3-3\n",
    "        board_position = board[2][marking_position-1]\n",
    "    \n",
    "    if board_position!=\" \":\n",
    "        return False\n",
    "    else:\n",
    "        return True\n",
    "    "
   ]
  },
  {
   "cell_type": "code",
   "execution_count": null,
   "id": "890fe053",
   "metadata": {},
   "outputs": [],
   "source": []
  },
  {
   "cell_type": "code",
   "execution_count": 5,
   "id": "14efae06",
   "metadata": {},
   "outputs": [],
   "source": [
    "def get_board_index(marking_position,board):\n",
    "    i, j=0,0\n",
    "    if (marking_position<=3):\n",
    "        i=0\n",
    "        j=marking_position-1\n",
    "    elif (marking_position>3 and marking_position<=6):\n",
    "\n",
    "        i=1\n",
    "        marking_position = marking_position-3\n",
    "        j=marking_position-1\n",
    "    elif (marking_position>6 and marking_position<=9):\n",
    "        marking_position = marking_position-3-3\n",
    "        i=2\n",
    "        j = marking_position-1\n",
    "    return (i,j)"
   ]
  },
  {
   "cell_type": "code",
   "execution_count": 6,
   "id": "2fc2c55a",
   "metadata": {},
   "outputs": [],
   "source": [
    "def update_board(marking_position,board,player):\n",
    "    row,col = get_board_index(marking_position,board)\n",
    "    board[row][col]=player\n",
    "    display_board(board)\n",
    "    return board\n",
    "    "
   ]
  },
  {
   "cell_type": "code",
   "execution_count": 7,
   "id": "0a6c6e0c",
   "metadata": {},
   "outputs": [],
   "source": [
    "def mark_place(board,player):\n",
    "    marking_position=get_user_number_to_mark_place()\n",
    "    if (is_place_empty(marking_position,board)):\n",
    "        board=update_board(marking_position,board,player)\n",
    "        return 0\n",
    "    else:\n",
    "        print(\"This Spot Is Already Taken Choose Another One Please\")\n",
    "        print(\" \")\n",
    "        mark_place(board,player)\n",
    "        \n",
    "        \n",
    "        "
   ]
  },
  {
   "cell_type": "code",
   "execution_count": 8,
   "id": "5c1fff99",
   "metadata": {},
   "outputs": [],
   "source": [
    "def check_result(board):\n",
    "    p1,p2=False,False\n",
    "    temp=[]\n",
    "    for i in range (3):\n",
    "        if (board[i]==[\"X\",\"X\",\"X\"]):\n",
    "            p1=True\n",
    "            return (\"Player 1\",p1)\n",
    "        elif (board[i]==[\"0\",\"0\",\"0\"]):\n",
    "            p2=True\n",
    "    for i in range(3):\n",
    "        for j in range (3):\n",
    "            temp.append(board[j][i])\n",
    "        if (temp==[\"X\",\"X\",\"X\"]):\n",
    "            p1 = True\n",
    "        elif (temp==[\"0\",\"0\",\"0\"]):\n",
    "            p2 = True\n",
    "        temp=[]\n",
    "        \n",
    "    if (board[0][0] ==board[1][1]==board[2][2]==\"X\"):\n",
    "        p1=True\n",
    "    elif (board[0][2] ==board[1][1]==board[2][0]==\"X\"):\n",
    "        p1=True\n",
    "    \n",
    "    if (board[0][0] ==board[1][1]==board[2][2]==\"0\"):\n",
    "        p2=True\n",
    "    elif (board[0][2] ==board[1][1]==board[2][0]==\"0\"):\n",
    "        p2=True\n",
    "    \n",
    "    if (p1):\n",
    "        return (\"Player 1\",p1)\n",
    "    if (p2):\n",
    "        return (\"Player 2\",p2)\n",
    "    return (\"Tie\",False)\n",
    "        "
   ]
  },
  {
   "cell_type": "code",
   "execution_count": 9,
   "id": "d7ff1efe",
   "metadata": {},
   "outputs": [],
   "source": [
    "def start_game(player1,player2,board):\n",
    "    remaining_spots=8\n",
    "    winer=False\n",
    "    player =\"\"\n",
    "    while (remaining_spots>=0):\n",
    "        if (remaining_spots%2==0):\n",
    "            mark_place(board,player1)\n",
    "            remaining_spots=remaining_spots-1\n",
    "            if (remaining_spots>=0 and remaining_spots<=3):\n",
    "                player,winer=check_result(board)\n",
    "                if(winer):\n",
    "                    print(\"---Congrulations---\")\n",
    "                    print(player ,\"Has Won The Game\")\n",
    "                    print(\" \")\n",
    "                    remaining_spots=-1\n",
    "                if (remaining_spots==0 and winer==False):\n",
    "                    print(\"The Game Has \",player)\n",
    "                    remaining_spots=-1\n",
    "        elif (remaining_spots%2==1):\n",
    "            mark_place(board,player2)\n",
    "            remaining_spots=remaining_spots-1\n",
    "            if (remaining_spots>=0 and remaining_spots<=3):\n",
    "                player,winer=check_result(board)\n",
    "                if(winer):\n",
    "                    print(\"---Congrulations---\")\n",
    "                    print(player ,\"Has Won The Game\")\n",
    "                    print(\" \")\n",
    "                    remaining_spots=-1\n",
    "                if (remaining_spots==0 and winer==False):\n",
    "                    print(\"The Game Has \",player)\n",
    "                    remaining_spots=-1\n",
    "    \n",
    "            \n",
    "    play_again = input(\"Enter yes or y to Play Again OR X to Quit The Game : \")\n",
    "    if (play_again==\"y\" or play_again==\"Y\" or play_again==\"yes\" or play_again==\"YES\"):\n",
    "        board=get_board()\n",
    "        start_game(player1,player2,board)\n",
    "    elif (play_again==\"exit\" or play_again==\"x\" or play_again==\"X\" or \n",
    "          play_again==\"quit\" or play_again==\"QUIT\" or play_again==\"q\" or play_again==\"Q\"):\n",
    "        print(\" \")\n",
    "        print(\"Game Has Successfully Quited\")\n",
    "        return 0\n",
    "        "
   ]
  },
  {
   "cell_type": "code",
   "execution_count": null,
   "id": "6cbfb0ce",
   "metadata": {},
   "outputs": [],
   "source": []
  },
  {
   "cell_type": "markdown",
   "id": "8a629793",
   "metadata": {},
   "source": []
  },
  {
   "cell_type": "markdown",
   "id": "70bffbd4",
   "metadata": {},
   "source": [
    "###### "
   ]
  },
  {
   "cell_type": "markdown",
   "id": "8bc400be",
   "metadata": {},
   "source": []
  },
  {
   "cell_type": "code",
   "execution_count": null,
   "id": "bd88055d",
   "metadata": {},
   "outputs": [],
   "source": [
    "def tic_tak():\n",
    "    print(\"Lets Play Tick Tak Toye\")\n",
    "    board=get_board()\n",
    "\n",
    "    player1,player2= \"X\",\"0\"\n",
    "\n",
    "    start_game(player1,player2,board)"
   ]
  },
  {
   "cell_type": "code",
   "execution_count": null,
   "id": "06f843ae",
   "metadata": {
    "scrolled": true
   },
   "outputs": [
    {
     "name": "stdout",
     "output_type": "stream",
     "text": [
      "Lets Play Tick Tak Toye\n",
      "Your New Board Is Ready\n",
      "  \n",
      "      |       |    \n",
      "---------------------\n",
      "      |       |    \n",
      "---------------------\n",
      "      |       |    \n",
      "---------------------\n",
      " \n",
      " \n"
     ]
    }
   ],
   "source": []
  },
  {
   "cell_type": "code",
   "execution_count": null,
   "id": "1b0e9aa0",
   "metadata": {},
   "outputs": [],
   "source": []
  },
  {
   "cell_type": "code",
   "execution_count": null,
   "id": "e4439adb",
   "metadata": {},
   "outputs": [],
   "source": []
  },
  {
   "cell_type": "code",
   "execution_count": null,
   "id": "fd34fb8b",
   "metadata": {},
   "outputs": [],
   "source": [
    "type(p1)"
   ]
  },
  {
   "cell_type": "code",
   "execution_count": 17,
   "id": "f9da3207",
   "metadata": {},
   "outputs": [
    {
     "data": {
      "text/plain": [
       "True"
      ]
     },
     "execution_count": 17,
     "metadata": {},
     "output_type": "execute_result"
    }
   ],
   "source": [
    "a==p1[0]"
   ]
  },
  {
   "cell_type": "code",
   "execution_count": 18,
   "id": "bf2f0f25",
   "metadata": {},
   "outputs": [],
   "source": [
    "p2={0:[\"X\",\"X\",\"X\"]}"
   ]
  },
  {
   "cell_type": "code",
   "execution_count": 19,
   "id": "5b658d76",
   "metadata": {},
   "outputs": [
    {
     "data": {
      "text/plain": [
       "True"
      ]
     },
     "execution_count": 19,
     "metadata": {},
     "output_type": "execute_result"
    }
   ],
   "source": [
    "p1==p2"
   ]
  },
  {
   "cell_type": "code",
   "execution_count": null,
   "id": "d823a361",
   "metadata": {},
   "outputs": [],
   "source": []
  },
  {
   "cell_type": "code",
   "execution_count": null,
   "id": "ee332043",
   "metadata": {},
   "outputs": [],
   "source": []
  },
  {
   "cell_type": "code",
   "execution_count": 2,
   "id": "e517ca39",
   "metadata": {},
   "outputs": [
    {
     "name": "stdout",
     "output_type": "stream",
     "text": [
      "Lets Play Tick Tak Toye\n",
      "Your New Board Is Ready\n",
      "  \n",
      "      |       |    \n",
      "---------------------\n",
      "      |       |    \n",
      "---------------------\n",
      "      |       |    \n",
      "---------------------\n",
      " \n",
      " \n",
      "Plase Enter a Number 1 to 9 to Mark a Spot.  1\n",
      "---------------------------------------------\n",
      "  \n",
      "  X   |       |    \n",
      "---------------------\n",
      "      |       |    \n",
      "---------------------\n",
      "      |       |    \n",
      "---------------------\n",
      " \n",
      " \n",
      "Plase Enter a Number 1 to 9 to Mark a Spot.  2\n",
      "---------------------------------------------\n",
      "  \n",
      "  X   |   0   |    \n",
      "---------------------\n",
      "      |       |    \n",
      "---------------------\n",
      "      |       |    \n",
      "---------------------\n",
      " \n",
      " \n",
      "Plase Enter a Number 1 to 9 to Mark a Spot.  3\n",
      "---------------------------------------------\n",
      "  \n",
      "  X   |   0   |   X\n",
      "---------------------\n",
      "      |       |    \n",
      "---------------------\n",
      "      |       |    \n",
      "---------------------\n",
      " \n",
      " \n",
      "Plase Enter a Number 1 to 9 to Mark a Spot.  5\n",
      "---------------------------------------------\n",
      "  \n",
      "  X   |   0   |   X\n",
      "---------------------\n",
      "      |   0   |    \n",
      "---------------------\n",
      "      |       |    \n",
      "---------------------\n",
      " \n",
      " \n",
      "Plase Enter a Number 1 to 9 to Mark a Spot.  5\n",
      "---------------------------------------------\n",
      "This Spot Is Already Taken Choose Another One Please\n",
      " \n",
      "Plase Enter a Number 1 to 9 to Mark a Spot.  4\n",
      "---------------------------------------------\n",
      "  \n",
      "  X   |   0   |   X\n",
      "---------------------\n",
      "  X   |   0   |    \n",
      "---------------------\n",
      "      |       |    \n",
      "---------------------\n",
      " \n",
      " \n",
      "Plase Enter a Number 1 to 9 to Mark a Spot.  6\n",
      "---------------------------------------------\n",
      "  \n",
      "  X   |   0   |   X\n",
      "---------------------\n",
      "  X   |   0   |   0\n",
      "---------------------\n",
      "      |       |    \n",
      "---------------------\n",
      " \n",
      " \n",
      "Plase Enter a Number 1 to 9 to Mark a Spot.  7\n",
      "---------------------------------------------\n",
      "  \n",
      "  X   |   0   |   X\n",
      "---------------------\n",
      "  X   |   0   |   0\n",
      "---------------------\n",
      "  X   |       |    \n",
      "---------------------\n",
      " \n",
      " \n",
      "---Congrulations---\n",
      "Player 1 Has Won The Game\n",
      " \n",
      "Enter yes or y to Play Again OR X to Quit The Game : x\n",
      " \n",
      "Game Has Successfully Quited\n"
     ]
    }
   ],
   "source": [
    "tic_tak()"
   ]
  },
  {
   "cell_type": "code",
   "execution_count": null,
   "id": "a2cd74fe",
   "metadata": {},
   "outputs": [],
   "source": []
  },
  {
   "cell_type": "code",
   "execution_count": null,
   "id": "52ad9f4f",
   "metadata": {},
   "outputs": [],
   "source": []
  },
  {
   "cell_type": "code",
   "execution_count": null,
   "id": "c350d65d",
   "metadata": {},
   "outputs": [],
   "source": []
  },
  {
   "cell_type": "code",
   "execution_count": null,
   "id": "08e25cb9",
   "metadata": {},
   "outputs": [],
   "source": []
  },
  {
   "cell_type": "code",
   "execution_count": null,
   "id": "722a3af4",
   "metadata": {},
   "outputs": [],
   "source": []
  }
 ],
 "metadata": {
  "kernelspec": {
   "display_name": "Python 3 (ipykernel)",
   "language": "python",
   "name": "python3"
  },
  "language_info": {
   "codemirror_mode": {
    "name": "ipython",
    "version": 3
   },
   "file_extension": ".py",
   "mimetype": "text/x-python",
   "name": "python",
   "nbconvert_exporter": "python",
   "pygments_lexer": "ipython3",
   "version": "3.8.10"
  }
 },
 "nbformat": 4,
 "nbformat_minor": 5
}
